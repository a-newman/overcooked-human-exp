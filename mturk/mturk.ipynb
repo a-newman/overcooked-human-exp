{
 "cells": [
  {
   "cell_type": "markdown",
   "source": [
    "# Introduction"
   ],
   "metadata": {}
  },
  {
   "cell_type": "markdown",
   "source": [
    "This notebook will walk you through creating and monitoring your HITs. \n",
    "\n",
    "It provides methods to create HITs, pretty-print HIT and assignment status, expire/edit HITs, create qualifications, and download collected data. \n",
    "\n",
    "Before continuing, make sure that you have read the README and set all config fields to their desired values.\n",
    "\n",
    "## Requirements: \n",
    "\n",
    "This code requires Python3 and the following packages: \n",
    "- boto3 \n",
    "- beautiful soup 4\n",
    "\n",
    "Before using, you will have to set up an authentication key to use the Amazon API and include it in a credentials file. See here: https://aws.amazon.com/developers/getting-started/python/"
   ],
   "metadata": {}
  },
  {
   "cell_type": "markdown",
   "source": [
    "# Setup"
   ],
   "metadata": {}
  },
  {
   "cell_type": "markdown",
   "source": [
    "Read the config file and establish a connection to MTurk.\n",
    "\n",
    "A connection is made to production or to the sandbox based on values in the config. "
   ],
   "metadata": {}
  },
  {
   "cell_type": "code",
   "execution_count": 4,
   "source": [
    "import datetime\n",
    "import boto3\n",
    "import json\n",
    "import copy\n",
    "import pprint\n",
    "from bs4 import BeautifulSoup as bs \n",
    "from uuid import uuid4"
   ],
   "outputs": [],
   "metadata": {}
  },
  {
   "cell_type": "code",
   "execution_count": 5,
   "source": [
    "# path to the config file \n",
    "CONFIG_PATH = \"configs/config.json\"\n",
    "\n",
    "# where to save downloaded results \n",
    "SAVE_PATH = \"assignments-prod-20210827.json\" \n",
    "\n",
    "# Sandbox or Production? You only spend money in Production.\n",
    "USING_PROD = False"
   ],
   "outputs": [],
   "metadata": {}
  },
  {
   "cell_type": "code",
   "execution_count": 6,
   "source": [
    "# Safety flags that prevent you from accidentally messing up your HITs. \n",
    "# Set to False except when you are performing these specific tasks.\n",
    "ALLOW_HIT_CREATION = True\n",
    "ALLOW_ASSIGNMENT_ADDITION = False\n",
    "ALLOW_CREATE_QUAL = False\n",
    "ALLOW_UPDATE_EXPIRATION = False"
   ],
   "outputs": [],
   "metadata": {}
  },
  {
   "cell_type": "code",
   "execution_count": 7,
   "source": [
    "# Read config and extract relevant settings\n",
    "with open(CONFIG_PATH, 'r') as f:\n",
    "    config = json.loads(f.read())\n",
    "    \n",
    "hit_config = config['hitCreation']\n",
    "\n",
    "external_submit = hit_config['externalSubmit']\n",
    "    \n",
    "hit_url = hit_config['taskUrl']\n",
    "\n",
    "if USING_PROD:\n",
    "    print(\"USING PROD\")\n",
    "    endpoint_url = 'https://mturk-requester.us-east-1.amazonaws.com'\n",
    "    origin=\"production\"\n",
    "else:\n",
    "    print(\"USING SANDBOX\")\n",
    "    endpoint_url = 'https://mturk-requester-sandbox.us-east-1.amazonaws.com'\n",
    "    origin=\"sandbox\"\n",
    "\n",
    "# If using an external link, add a querystring origin=sandbox or origin=production \n",
    "# for use in your js logic if you want. Not done for MTurk submits because it breaks the submit link\n",
    "if external_submit: \n",
    "    hit_url = \"%s?origin=%s\" % (hit_url, origin)\n",
    "\n",
    "if external_submit:\n",
    "    print(\"Configuring task as external link with data submitted to: %s\" % config['advanced']['externalSubmitUrl'])\n",
    "else:\n",
    "    print(\"Configuring task as an iframe within Mturk\")\n",
    "print(\"TASK URL: \" + hit_url)\n",
    "\n",
    "session = boto3.session.Session(profile_name='default')\n",
    "cl = session.client('mturk', region_name='us-east-1', endpoint_url=endpoint_url)"
   ],
   "outputs": [
    {
     "output_type": "stream",
     "name": "stdout",
     "text": [
      "USING SANDBOX\n",
      "Configuring task as an iframe within Mturk\n",
      "TASK URL: https://human-agent-collaboration.su.domains/experiment?config=test_collab_pool.json\n"
     ]
    }
   ],
   "metadata": {}
  },
  {
   "cell_type": "markdown",
   "source": [
    "# Make new HIT"
   ],
   "metadata": {}
  },
  {
   "cell_type": "code",
   "execution_count": 8,
   "source": [
    "# List of qualifications that you will use to filter potential workers. \n",
    "# These require that workers come from the US and have an approval rating >= 95%\n",
    "# Edit this list to specify different qualifications for workers \n",
    "QUALS = [\n",
    "    {\n",
    "        'QualificationTypeId': '00000000000000000071',\n",
    "        'Comparator': 'EqualTo',\n",
    "        'LocaleValues': [{\n",
    "            'Country': 'US',\n",
    "        }],\n",
    "    },\n",
    "    {\n",
    "        'QualificationTypeId': '000000000000000000L0',\n",
    "        'Comparator': 'GreaterThanOrEqualTo',\n",
    "        'IntegerValues': [\n",
    "            95\n",
    "        ],\n",
    "    },\n",
    "]"
   ],
   "outputs": [],
   "metadata": {}
  },
  {
   "cell_type": "code",
   "execution_count": 9,
   "source": [
    "# Helpers for creating HITs. \n",
    "\n",
    "# generic helper that sets metadata fields based on the config file.\n",
    "def create_hit(task, questionText, quals=QUALS): \n",
    "    response = cl.create_hit(\n",
    "        MaxAssignments=task['numAssignments'],\n",
    "        AutoApprovalDelayInSeconds=604800,\n",
    "        LifetimeInSeconds=task['lifetime'],\n",
    "        AssignmentDurationInSeconds=task['duration'],\n",
    "        Reward=task['rewardAmount'],\n",
    "        Title=task['title'],\n",
    "        Keywords=task['keywords'],\n",
    "        Description=task['description'],\n",
    "        Question=questionText,\n",
    "        QualificationRequirements=quals,\n",
    "    )\n",
    "    print(response)\n",
    "    print(\"\\n\")\n",
    "\n",
    "# creates a HIT in the form of an External Question inside an iFrame\n",
    "def create_hit_iframe(task):\n",
    "    url = _encode_qs(task['taskUrl'])\n",
    "    questionText = \"<ExternalQuestion xmlns=\\\"http://mechanicalturk.amazonaws.com/AWSMechanicalTurkDataSchemas/\"\n",
    "    questionText += \"2006-07-14/ExternalQuestion.xsd\\\">\\n<ExternalURL>\" + url\n",
    "    questionText += \"</ExternalURL>\\n  <FrameHeight>700</FrameHeight>\\n</ExternalQuestion>\"\n",
    "    create_hit(task, questionText)\n",
    "    \n",
    "# Helper to create a HIT in the form of a simple UI with a link to an external page and an\n",
    "# input box for a completion code \n",
    "def create_hit_external(task):\n",
    "    with open('questionform_template.xml', 'r') as myfile:\n",
    "        template=myfile.read() \n",
    "    question_xml = template % (hit_config[\"title\"], hit_config[\"description\"], hit_url)\n",
    "    create_hit(task, question_xml)\n",
    "\n",
    "# helper to encode the querystring as required by MTurk\n",
    "def _encode_qs(url):\n",
    "    return url.replace(\"&\", \"&amp;\")"
   ],
   "outputs": [],
   "metadata": {}
  },
  {
   "cell_type": "code",
   "execution_count": 10,
   "source": [
    "# Use this cell to launch your HIT! \n",
    "if ALLOW_HIT_CREATION: \n",
    "    if not (hit_config.get('variants', False) or hit_config.get('numTasks', False)): \n",
    "        raise RuntimeError(\"You must specify either hitCreation.numTasks or hitCreation.variants in your config.json file\")\n",
    "    \n",
    "    hit_creation_function = create_hit_external if external_submit else create_hit_iframe\n",
    "    \n",
    "    if hit_config.get('numTasks', False): \n",
    "        print(\"creating \" + str(hit_config['numTasks']) + \" tasks\")\n",
    "        for i in range(hit_config['numTasks']):\n",
    "            hit_creation_function(hit_config)\n",
    "    else: \n",
    "        print(\"creating \" + str(len(config['variants'])) + \" variants\")\n",
    "        for var in hit_config['variants']: \n",
    "            task = copy.deepcopy(config)\n",
    "            task.update(var)\n",
    "            hit_creation_function(task)\n",
    "else: \n",
    "    raise RuntimeError(\"This action is not currently enabled; set `ALLOW_HIT_CREATION` to true to proceed with this action\")"
   ],
   "outputs": [
    {
     "output_type": "stream",
     "name": "stdout",
     "text": [
      "creating 1 tasks\n",
      "{'HIT': {'HITId': '3SD15I2WEB3YIO5Z52F6XQE7GPF63N', 'HITTypeId': '3RDTAMZS7C1WL692VW0X0D9RV5ZXGS', 'HITGroupId': '3GV45MIM46S3XKVWVUR7062QBUVZM0', 'CreationTime': datetime.datetime(2021, 8, 30, 9, 50, 26, tzinfo=tzlocal()), 'Title': 'Play Overcooked with an AI agent', 'Description': 'Try to deliver as many soups as possible in the kitchen-themed video game Overcooked with an AI agent as your partner. Then, answer some questions about your experience.', 'Question': '<ExternalQuestion xmlns=\"http://mechanicalturk.amazonaws.com/AWSMechanicalTurkDataSchemas/2006-07-14/ExternalQuestion.xsd\">\\n<ExternalURL>https://human-agent-collaboration.su.domains/experiment?config=test_collab_pool.json</ExternalURL>\\n  <FrameHeight>700</FrameHeight>\\n</ExternalQuestion>', 'Keywords': 'overcooked, game, survey', 'HITStatus': 'Assignable', 'MaxAssignments': 2, 'Reward': '2.00', 'AutoApprovalDelayInSeconds': 604800, 'Expiration': datetime.datetime(2021, 8, 31, 9, 50, 26, tzinfo=tzlocal()), 'AssignmentDurationInSeconds': 1800, 'QualificationRequirements': [{'QualificationTypeId': '00000000000000000071', 'Comparator': 'EqualTo', 'LocaleValues': [{'Country': 'US'}], 'RequiredToPreview': False, 'ActionsGuarded': 'Accept'}, {'QualificationTypeId': '000000000000000000L0', 'Comparator': 'GreaterThanOrEqualTo', 'IntegerValues': [95], 'RequiredToPreview': False, 'ActionsGuarded': 'Accept'}], 'HITReviewStatus': 'NotReviewed', 'NumberOfAssignmentsPending': 0, 'NumberOfAssignmentsAvailable': 2, 'NumberOfAssignmentsCompleted': 0}, 'ResponseMetadata': {'RequestId': 'a6304ee3-ae6b-45f4-9324-b93e15245ae6', 'HTTPStatusCode': 200, 'HTTPHeaders': {'x-amzn-requestid': 'a6304ee3-ae6b-45f4-9324-b93e15245ae6', 'content-type': 'application/x-amz-json-1.1', 'content-length': '1373', 'date': 'Mon, 30 Aug 2021 16:50:26 GMT'}, 'RetryAttempts': 0}}\n",
      "\n",
      "\n"
     ]
    }
   ],
   "metadata": {}
  },
  {
   "cell_type": "markdown",
   "source": [
    "# HIT monitoring helpers"
   ],
   "metadata": {}
  },
  {
   "cell_type": "markdown",
   "source": [
    "Helper functions that will be useful for monitoring the status of your HIT. See next section for how to use them."
   ],
   "metadata": {}
  },
  {
   "cell_type": "code",
   "execution_count": 19,
   "source": [
    "# Contacts MTurk API to get all assignments for a HIT\n",
    "# Returns them in a list. \n",
    "def get_all_assignments(hitid): \n",
    "    assignments = []\n",
    "    should_continue = True\n",
    "    next_token = False\n",
    "    while (should_continue): \n",
    "        args = {\n",
    "            'HITId': hitid, \n",
    "            'MaxResults': 100\n",
    "        }\n",
    "        if (next_token): \n",
    "            args['NextToken'] = next_token\n",
    "        r = cl.list_assignments_for_hit(**args)\n",
    "        next_token = r.get('NextToken', False)\n",
    "        assignments.extend(r[\"Assignments\"])\n",
    "        should_continue = len(r[\"Assignments\"]) > 0\n",
    "    return assignments\n",
    "\n",
    "# Summarizes all hits in `hits` in a human-readable way. \n",
    "# Prints out the HIT Title, id, if it is expired, and how many assignments it has\n",
    "# completed, pending, and left for work. \n",
    "def summarize_hits(hits): \n",
    "    print(len(hits))\n",
    "    ret = \"\"\n",
    "    for hit in hits: \n",
    "        expiration = hit['Expiration'].replace(tzinfo=None)\n",
    "        is_expired = expiration < datetime.datetime.now()\n",
    "        description = (\"Title: {title}\\n\" \n",
    "        \"ID: {hid}\\n\"\n",
    "        \"\\tAssignments left: {left}\\n\"\n",
    "        \"\\tAssignments completed: {complete}\\n\"\n",
    "        \"\\tAssignments pending: {pending}\\n\"\n",
    "        \"\\tExpired: {exp}\\n\\n\").format(\n",
    "            title=hit['Title'], \n",
    "            hid=hit['HITId'], \n",
    "            left=hit['NumberOfAssignmentsAvailable'], \n",
    "            complete=hit['NumberOfAssignmentsCompleted'], \n",
    "            pending=hit['NumberOfAssignmentsPending'],\n",
    "            exp=str(is_expired)\n",
    "        )\n",
    "        ret += description\n",
    "    print(ret)\n",
    "    \n",
    "# Prints a human-readable summary of all pending/submitted/approved assignments for all hits in `hits`\n",
    "def summarize_assignments(hits):\n",
    "    ret = \"\"\n",
    "    for hit in hits: \n",
    "        hid = hit['HITId']\n",
    "        title =  hit['Title']\n",
    "        name = \"HIT %s: %s\" % (hid, title)\n",
    "        ret += name + \"\\n\"\n",
    "        assignments = get_all_assignments(hid)\n",
    "        if len(assignments) == 0: \n",
    "            ret += \"\\tNo pending/submitted/approved assignments for this HIT\\n\"\n",
    "        for a in assignments: \n",
    "            desc = \"\\tAssignment {aid}\\n\\t\\tStatus: {status}\\n\".format(aid=a['AssignmentId'], status=a['AssignmentStatus'])\n",
    "            ret += desc\n",
    "    print(ret)\n",
    "    \n",
    "# Refreshes data about the requested hits\n",
    "def refresh_hits(): \n",
    "    global hits \n",
    "    global MAX_RESULTS\n",
    "    hits = cl.list_hits(MaxResults=MAX_RESULTS)['HITs']"
   ],
   "outputs": [],
   "metadata": {}
  },
  {
   "cell_type": "markdown",
   "source": [
    "# HIT monitoring"
   ],
   "metadata": {}
  },
  {
   "cell_type": "code",
   "execution_count": 29,
   "source": [
    "MAX_RESULTS = 3\n",
    "# API call to grab HIT data from MTurk \n",
    "hits = cl.list_hits(MaxResults=MAX_RESULTS)['HITs']"
   ],
   "outputs": [],
   "metadata": {}
  },
  {
   "cell_type": "code",
   "execution_count": 30,
   "source": [
    "# Summarizes all outstanding HITs\n",
    "refresh_hits()\n",
    "summarize_hits(hits)"
   ],
   "outputs": [
    {
     "output_type": "stream",
     "name": "stdout",
     "text": [
      "3\n",
      "Title: Play Overcooked with an AI agent\n",
      "ID: 3B623HUYKDZP6J92OWJOV87BDVJ8S4\n",
      "\tAssignments left: 0\n",
      "\tAssignments completed: 0\n",
      "\tAssignments pending: 0\n",
      "\tExpired: False\n",
      "\n",
      "Title: Play Overcooked with an AI agent\n",
      "ID: 3BA7SXOG2SZD549P97JJ5Y2FRT08RG\n",
      "\tAssignments left: 0\n",
      "\tAssignments completed: 0\n",
      "\tAssignments pending: 0\n",
      "\tExpired: False\n",
      "\n",
      "Title: Play Overcooked with an AI agent\n",
      "ID: 3KA7IJSNXFEBVPRHZRZ4R5S1YHXBPQ\n",
      "\tAssignments left: 0\n",
      "\tAssignments completed: 0\n",
      "\tAssignments pending: 0\n",
      "\tExpired: False\n",
      "\n",
      "\n"
     ]
    }
   ],
   "metadata": {}
  },
  {
   "cell_type": "code",
   "execution_count": 31,
   "source": [
    "# Summarizes assignments for all oustanding HITs \n",
    "refresh_hits()\n",
    "summarize_assignments(hits)"
   ],
   "outputs": [
    {
     "output_type": "stream",
     "name": "stdout",
     "text": [
      "HIT 3B623HUYKDZP6J92OWJOV87BDVJ8S4: Play Overcooked with an AI agent\n",
      "\tAssignment 3H0W84IWBUBX1PGACCAKLSUO31HRE6\n",
      "\t\tStatus: Submitted\n",
      "\tAssignment 3R2PKQ87N6HIKE543N4UK8Y6P7PMIM\n",
      "\t\tStatus: Submitted\n",
      "HIT 3BA7SXOG2SZD549P97JJ5Y2FRT08RG: Play Overcooked with an AI agent\n",
      "\tAssignment 38F71OA9G35YAN3E2FY9HBLE9FXMFV\n",
      "\t\tStatus: Submitted\n",
      "\tAssignment 3YJ6NA41JLPK0SMNDLHMDD717RPJPR\n",
      "\t\tStatus: Submitted\n",
      "\tAssignment 3F6HPJW4JN9AE5LGIMPP6QTGYD6W2C\n",
      "\t\tStatus: Submitted\n",
      "\tAssignment 3VNXK88KKMR8Z06ADLZ8UBIGXAJ9VC\n",
      "\t\tStatus: Submitted\n",
      "\tAssignment 30BXRYBRPE6ETVOY17SWTUZINWOHWF\n",
      "\t\tStatus: Submitted\n",
      "\tAssignment 3NPI0JQDAYEEEVISPFVQFJUA5TGTP6\n",
      "\t\tStatus: Submitted\n",
      "\tAssignment 3I33IC7ZWPBD7SIDHHTXO1WP6U8A2K\n",
      "\t\tStatus: Submitted\n",
      "\tAssignment 3RGU30DZTKHEFPPAL5PUW9D62MWMJG\n",
      "\t\tStatus: Submitted\n",
      "\tAssignment 3R08VXYT7M4H06IMOY6K2HAO9TG7WR\n",
      "\t\tStatus: Submitted\n",
      "HIT 3KA7IJSNXFEBVPRHZRZ4R5S1YHXBPQ: Play Overcooked with an AI agent\n",
      "\tAssignment 3R0T90IZ12LRF1NI0AADW0GEGGTCG2\n",
      "\t\tStatus: Submitted\n",
      "\tAssignment 3AAPLD8UCMQM1EK462NL6ASJJ26HTP\n",
      "\t\tStatus: Submitted\n",
      "\tAssignment 35GMH2SV3OQU4COUKKTGRXPJSEXOEU\n",
      "\t\tStatus: Submitted\n",
      "\tAssignment 3G5F9DBFOZ61E6OTBXN07SG4GNMHV5\n",
      "\t\tStatus: Submitted\n",
      "\tAssignment 34S6N1K2Z5SYI1CZXTLUKJI2PPMHLO\n",
      "\t\tStatus: Submitted\n",
      "\tAssignment 3TAYZSBPLVHH7O47YHFO91QVS0G2S9\n",
      "\t\tStatus: Submitted\n",
      "\tAssignment 3DPNQGW4LVOMN4LXVIV91BR1UPM64U\n",
      "\t\tStatus: Submitted\n",
      "\tAssignment 3VE8AYVF8W6JPY1A8EOQCTKJPA8F80\n",
      "\t\tStatus: Submitted\n",
      "\tAssignment 33ISQZVXPZVEYP7DYOEU69VZIO6CCX\n",
      "\t\tStatus: Submitted\n",
      "\n"
     ]
    }
   ],
   "metadata": {}
  },
  {
   "cell_type": "markdown",
   "source": [
    "# Approve HITs"
   ],
   "metadata": {}
  },
  {
   "cell_type": "markdown",
   "source": [
    "Approves all outstanding assignments for the HITs displayed above. "
   ],
   "metadata": {}
  },
  {
   "cell_type": "code",
   "execution_count": 32,
   "source": [
    "def approve_all(hits): \n",
    "    num_approved = 0\n",
    "    for hit in hits: \n",
    "        # make sure you keep getting assignments \n",
    "        assignments = get_all_assignments(hit[\"HITId\"])\n",
    "        #print(assignments)\n",
    "        for a in assignments: \n",
    "            if a['AssignmentStatus'] != 'Approved':\n",
    "                print(\"Approving assignment\")\n",
    "                num_approved += 1\n",
    "                cl.approve_assignment(AssignmentId=a['AssignmentId'])\n",
    "    print(\"Approved %d assignments\" % num_approved)"
   ],
   "outputs": [],
   "metadata": {}
  },
  {
   "cell_type": "code",
   "execution_count": 33,
   "source": [
    "refresh_hits()\n",
    "approve_all(hits)"
   ],
   "outputs": [
    {
     "output_type": "stream",
     "name": "stdout",
     "text": [
      "Approving assignment\n",
      "Approving assignment\n",
      "Approving assignment\n",
      "Approving assignment\n",
      "Approving assignment\n",
      "Approving assignment\n",
      "Approving assignment\n",
      "Approving assignment\n",
      "Approving assignment\n",
      "Approving assignment\n",
      "Approving assignment\n",
      "Approving assignment\n",
      "Approving assignment\n",
      "Approving assignment\n",
      "Approving assignment\n",
      "Approving assignment\n",
      "Approving assignment\n",
      "Approving assignment\n",
      "Approving assignment\n",
      "Approving assignment\n",
      "Approved 20 assignments\n"
     ]
    }
   ],
   "metadata": {}
  },
  {
   "cell_type": "markdown",
   "source": [
    "# Send Bonus"
   ],
   "metadata": {}
  },
  {
   "cell_type": "code",
   "execution_count": 38,
   "source": [
    "import pandas as pd\n",
    "\n",
    "bonus_reason = \"Soups delivered in Overcooked game\"\n",
    "\n",
    "f = open('/home/dy/filerepo/Research/multiagent-human-experiment/mturk/experiment_data/mturk-experiment-5-20210827-bonus-flipped.json',)\n",
    "data = json.load(f)\n",
    "f.close()\n",
    "\n",
    "f = open('/home/dy/filerepo/Research/multiagent-human-experiment/mturk/experiment_data/bonus-5-20210827-bonus-flipped.json')\n",
    "bonus_data = json.loads(json.load(f))\n",
    "f.close()\n",
    "\n",
    "workers = range(len(data))\n",
    "num_bonus = 0\n",
    "\n",
    "for worker in workers:\n",
    "    assignment_id = data[worker]['AssignmentId'] \n",
    "    worker_id = data[worker]['WorkerId'] \n",
    "    bonus_amount = str(bonus_data[str(worker)]*0.01)\n",
    "    num_bonus += 1\n",
    "    print(worker_id, assignment_id, bonus_amount, bonus_reason)\n",
    "    cl.send_bonus(WorkerId=worker_id, AssignmentId=assignment_id, BonusAmount=bonus_amount, Reason=bonus_reason)\n",
    "\n",
    "print(\"Sent \" + str(num_bonus) + \" bonuses.\")\n"
   ],
   "outputs": [
    {
     "output_type": "stream",
     "name": "stdout",
     "text": [
      "A32W5S5JWI020D 3H0W84IWBUBX1PGACCAKLSUO31HRE6 0.07 Soups delivered in Overcooked game\n",
      "A8QQAWKPF8INN 3R2PKQ87N6HIKE543N4UK8Y6P7PMIM 0.08 Soups delivered in Overcooked game\n",
      "A3BOOIQQX6HXM2 38F71OA9G35YAN3E2FY9HBLE9FXMFV 0.12 Soups delivered in Overcooked game\n",
      "A4VX0HIO63OL1 3YJ6NA41JLPK0SMNDLHMDD717RPJPR 0.07 Soups delivered in Overcooked game\n",
      "A13JASA5KM2DCR 3F6HPJW4JN9AE5LGIMPP6QTGYD6W2C 0.16 Soups delivered in Overcooked game\n",
      "A17VZ9N2ENUMD 3VNXK88KKMR8Z06ADLZ8UBIGXAJ9VC 0.09 Soups delivered in Overcooked game\n",
      "A18IBIG55GUNMH 30BXRYBRPE6ETVOY17SWTUZINWOHWF 0.1 Soups delivered in Overcooked game\n",
      "A21ZK49H9LSSRY 3NPI0JQDAYEEEVISPFVQFJUA5TGTP6 0.2 Soups delivered in Overcooked game\n",
      "A3737WAE5ECT0M 3I33IC7ZWPBD7SIDHHTXO1WP6U8A2K 0.03 Soups delivered in Overcooked game\n",
      "A2BB01M8NATK5V 3RGU30DZTKHEFPPAL5PUW9D62MWMJG 0.08 Soups delivered in Overcooked game\n",
      "A13OGAKPNRM1ZN 3R08VXYT7M4H06IMOY6K2HAO9TG7WR 0.1 Soups delivered in Overcooked game\n",
      "A2V27A9GZA1NR2 3R0T90IZ12LRF1NI0AADW0GEGGTCG2 0.26 Soups delivered in Overcooked game\n",
      "A2L22QZ8659UBE 3AAPLD8UCMQM1EK462NL6ASJJ26HTP 0.08 Soups delivered in Overcooked game\n",
      "A2VLTSW6CXIUMR 35GMH2SV3OQU4COUKKTGRXPJSEXOEU 0.2 Soups delivered in Overcooked game\n",
      "AQMLJYUQCSG22 3G5F9DBFOZ61E6OTBXN07SG4GNMHV5 0.22 Soups delivered in Overcooked game\n",
      "A1957AO44QAFAO 34S6N1K2Z5SYI1CZXTLUKJI2PPMHLO 0.13 Soups delivered in Overcooked game\n",
      "A1Q8BFAGJSRIH1 3TAYZSBPLVHH7O47YHFO91QVS0G2S9 0.07 Soups delivered in Overcooked game\n",
      "A1C3FAA4TBPIW8 3DPNQGW4LVOMN4LXVIV91BR1UPM64U 0.08 Soups delivered in Overcooked game\n",
      "A1BISRD579W10W 3VE8AYVF8W6JPY1A8EOQCTKJPA8F80 0.1 Soups delivered in Overcooked game\n",
      "A152NBCP5LTKJF 33ISQZVXPZVEYP7DYOEU69VZIO6CCX 0.09 Soups delivered in Overcooked game\n",
      "Sent 20 bonuses.\n"
     ]
    }
   ],
   "metadata": {}
  },
  {
   "cell_type": "code",
   "execution_count": null,
   "source": [],
   "outputs": [],
   "metadata": {}
  },
  {
   "cell_type": "markdown",
   "source": [
    "# Update expiration or num tasks"
   ],
   "metadata": {}
  },
  {
   "cell_type": "code",
   "execution_count": null,
   "source": [
    "# changes the expiration date on a HIT to days_from_now days in the future\n",
    "def update_expiration(hitid, days_from_now): \n",
    "    if ALLOW_UPDATE_EXPIRATION: \n",
    "        days = days_from_now*datetime.timedelta(days=1)\n",
    "        expire_time = datetime.datetime.now() + days\n",
    "\n",
    "        response = cl.update_expiration_for_hit(HITId=hitid, ExpireAt=expire_time)\n",
    "        print(response)\n",
    "        return response\n",
    "    else: \n",
    "        raise RuntimeError(\"This action is not currently enabled; set `ALLOW_UPDATE_EXPIRATION` to true to proceed with this action\")\n",
    "    \n",
    "def expire_hit(hit): \n",
    "    return update_expiration(hit, -10)"
   ],
   "outputs": [],
   "metadata": {}
  },
  {
   "cell_type": "code",
   "execution_count": null,
   "source": [
    "def add_assignments(hitid, num_assignments): \n",
    "    if ALLOW_ASSIGNMENT_ADDITION: \n",
    "        response = cl.create_additional_assignments_for_hit(\n",
    "            HITId=hitid,\n",
    "            NumberOfAdditionalAssignments=num_assignments\n",
    "        )\n",
    "        print(response)\n",
    "        return response\n",
    "    else: \n",
    "        raise RuntimeError(\"This action is not currently enabled; set `ALLOW_ASSIGNMENT_ADDITION` to true to proceed with this action\")"
   ],
   "outputs": [],
   "metadata": {}
  },
  {
   "cell_type": "code",
   "execution_count": null,
   "source": [
    "# Use this cell to expire a HIT \n",
    "HIT_id_to_expire = \"FILL THIS IN\" \n",
    "expire_hit(HIT_id_to_expire)"
   ],
   "outputs": [],
   "metadata": {}
  },
  {
   "cell_type": "code",
   "execution_count": null,
   "source": [
    "# Use this cell to add assignments to a HIT \n",
    "HIT_id_to_add_assignments = \"FILL THIS IN\"\n",
    "num_assignments_to_add = 0\n",
    "add_assignments(HIT_id_to_add_assignments, num_assignments_to_add)"
   ],
   "outputs": [],
   "metadata": {}
  },
  {
   "cell_type": "markdown",
   "source": [
    "# Add custom qualifications "
   ],
   "metadata": {}
  },
  {
   "cell_type": "markdown",
   "source": [
    "## Add a qualification to disqualify workers who have done work before\n",
    "\n",
    "- uses \"negative qualification\" method from https://github.com/cloudyr/MturkR/wiki/qualifications-as-blocks\n",
    "\n",
    "#### NOTE: quals are kept separate for the sandbox and prod. Make sure you are creating and assigning your quals in prod. "
   ],
   "metadata": {}
  },
  {
   "cell_type": "markdown",
   "source": [
    "### Structure of a new qualification"
   ],
   "metadata": {}
  },
  {
   "cell_type": "code",
   "execution_count": null,
   "source": [
    "NEW_QUAL = {\n",
    "    'Name': 'qualName',\n",
    "    'Keywords': 'Keywords for qual',\n",
    "    'Description': 'What is this qual, and why are you assigning it?',\n",
    "    'QualificationTypeStatus': 'Active',\n",
    "    'AutoGranted': False\n",
    "}"
   ],
   "outputs": [],
   "metadata": {}
  },
  {
   "cell_type": "markdown",
   "source": [
    "### Helpers for creating, viewing, and assigning qualifications"
   ],
   "metadata": {}
  },
  {
   "cell_type": "code",
   "execution_count": 20,
   "source": [
    "# Registers a custom qualification with MTurk \n",
    "def create_qual(new_qual):\n",
    "    if ALLOW_CREATE_QUAL: \n",
    "        response = cl.create_qualification_type(**new_qual)\n",
    "        print(response)\n",
    "        Id = response['QualificationType']['QualificationTypeId']\n",
    "        print(\"id\", Id)\n",
    "        return Id\n",
    "    else: \n",
    "        raise RuntimException(\"This action is not currently enabled; set `ALLOW_CREATE_QUAL` to true to proceed with this action\")\n",
    "        \n",
    "# Gets all the custom quals you have created and prints them\n",
    "def list_quals(): \n",
    "    response = cl.list_qualification_types(\n",
    "            Query='hasCompletedVisualGraphRecallTask',\n",
    "            MustBeRequestable=False\n",
    "    )\n",
    "    print(response)\n",
    "    \n",
    "# Assigns a qualification to a worker \n",
    "def assign_qual(qual_id, worker_ids): \n",
    "    for worker in worker_ids: \n",
    "        response = cl.associate_qualification_with_worker(\n",
    "                QualificationTypeId=qual_id, \n",
    "                WorkerId=worker,\n",
    "                IntegerValue=1,\n",
    "                SendNotification=False\n",
    "        )\n",
    "        print(response)\n",
    "        assert response\n",
    "        \n",
    "# Gets the ids of all workers who worked on a particular hit \n",
    "def get_workers_for_hit(hitid): \n",
    "    a = get_all_assignments(hitid)\n",
    "    workers = [a_['WorkerId'] for a_ in a]\n",
    "    return workers\n",
    "    \n",
    "# Confirms that every worker in worker_ids has qual with qual_id\n",
    "def confirm_quals(qual_id, worker_ids): \n",
    "    for w in worker_ids: \n",
    "        response = cl.get_qualification_score(\n",
    "                QualificationTypeId=qual_id,\n",
    "                WorkerId=w\n",
    "        )\n",
    "        response = response['Qualification']\n",
    "        assert response['Status'] == 'Granted'\n",
    "        assert response['IntegerValue'] == 1\n",
    "        \n",
    "# Assigns qual with `qual_id` to every worker who has completed an assignment for the hit with `hitid`\n",
    "def assign_qual_for_hit(hitid, qual_id): \n",
    "    workers = get_workers_for_hit(hitid)\n",
    "    print(\"got workers\")\n",
    "    assign_qual(qual_id, workers)\n",
    "    print(\"assigned qual\")\n",
    "    confirm_quals(qual_id, workers)\n",
    "    print(\"confirmed qual\")"
   ],
   "outputs": [],
   "metadata": {}
  },
  {
   "cell_type": "markdown",
   "source": [
    "### Use the following cells to manipulate qualifications"
   ],
   "metadata": {}
  },
  {
   "cell_type": "code",
   "execution_count": null,
   "source": [
    "# Use this cell to view the custom qualifications you have created\n",
    "list_quals()"
   ],
   "outputs": [],
   "metadata": {}
  },
  {
   "cell_type": "code",
   "execution_count": null,
   "source": [
    "# Use this cell to create a new qual \n",
    "qual_to_create = {}\n",
    "create_qual(qual_to_create)"
   ],
   "outputs": [],
   "metadata": {}
  },
  {
   "cell_type": "code",
   "execution_count": null,
   "source": [
    "# Use this cell to assign a custom qual to every worker who has done a specific HIT\n",
    "hit_id = \"FILL THIS IN\"\n",
    "qual_id_to_assign = \"FILL THIS IN\"\n",
    "assign_qual_for_hit(hit_id, qual_id_to_assign)"
   ],
   "outputs": [],
   "metadata": {}
  },
  {
   "cell_type": "markdown",
   "source": [
    "# Create Compensation HIT\n",
    "\n",
    "Mistakes happen, and sometimes they can lead to a worker who put in an honest effort being unable to complete a task and get paid. It's a good idea to compensate these workers when they reach out because it helps maintain relations with workers and is the right thing to do.\n",
    "\n",
    "However, workers can only be paid upon completing a task. The workaround is to create a custom qualification, assign it to the worker you want to compensate, and create a no-work HIT requiring the custom qualification. This code does that."
   ],
   "metadata": {}
  },
  {
   "cell_type": "code",
   "execution_count": 18,
   "source": [
    "# worker_ids is str[]\n",
    "# compensation is str but should match the regex ^\\d*\\.\\d\\d$ (e.g. \"1.00\")\n",
    "# for_hit_id is str -- optional, but helpful for records\n",
    "def compensate_workers(worker_ids, compensation, for_hit_id=\"\"):\n",
    "    with open('compensation.xml', 'r') as myfile:\n",
    "        question_xml=myfile.read()\n",
    "\n",
    "    keywords = 'compensation'\n",
    "    description = 'Compensation for HIT'\n",
    "    if for_hit_id:\n",
    "        keywords += ', ' + for_hit_id\n",
    "        description += ' ' + for_hit_id\n",
    "\n",
    "    # create qual, assign to workers\n",
    "    custom_qual = {\n",
    "        'Name': str(uuid4()), # a qual must have a unique name\n",
    "        'Keywords': keywords,\n",
    "        'Description': description,\n",
    "        'QualificationTypeStatus': 'Active',\n",
    "        'AutoGranted': False\n",
    "    }\n",
    "    qual_id = create_qual(custom_qual)\n",
    "    assign_qual(qual_id, worker_ids)\n",
    "\n",
    "    # create HIT requiring qual\n",
    "    task = {\n",
    "        'numAssignments': len(worker_ids),\n",
    "        'lifetime': 3 * 24 * 60 * 60, # 3 days\n",
    "        'duration': 5 * 60, # 5 min\n",
    "        'rewardAmount': compensation,\n",
    "        'title': description,\n",
    "        'keywords': keywords,\n",
    "        'description': description,\n",
    "    }\n",
    "    quals = [{\n",
    "        'QualificationTypeId': qual_id,\n",
    "        'Comparator': 'Exists',\n",
    "        'ActionsGuarded': 'DiscoverPreviewAndAccept'\n",
    "    }]\n",
    "    create_hit(task, question_xml, quals)"
   ],
   "outputs": [],
   "metadata": {}
  },
  {
   "cell_type": "code",
   "execution_count": 25,
   "source": [
    "worker_ids = [] # worker_id strings in a list\n",
    "compensation = \"0.00\" # change to the amount of dollars you want to give\n",
    "for_hit_id = \"\" # hit_id string (what you are compensating for)\n",
    "compensate_workers(worker_ids, compensation, for_hit_id)"
   ],
   "outputs": [
    {
     "output_type": "stream",
     "name": "stdout",
     "text": [
      "{'QualificationType': {'QualificationTypeId': '3ZKUQXDZ4GWPO7ECLTL0G0F7KLK828', 'CreationTime': datetime.datetime(2021, 8, 20, 17, 38, 47, tzinfo=tzlocal()), 'Name': '9042defd-5698-4c88-aab5-36fb63c64ae9', 'Description': 'Compensation for HIT Compensation hit for playing Overcooked, thanks for your time!', 'Keywords': 'compensation, Compensation hit for playing Overcooked, thanks for your time!', 'QualificationTypeStatus': 'Active', 'IsRequestable': True, 'AutoGranted': False}, 'ResponseMetadata': {'RequestId': '9f127279-adf9-4628-a740-f40fcc5d7ad2', 'HTTPStatusCode': 200, 'HTTPHeaders': {'x-amzn-requestid': '9f127279-adf9-4628-a740-f40fcc5d7ad2', 'content-type': 'application/x-amz-json-1.1', 'content-length': '419', 'date': 'Fri, 20 Aug 2021 22:38:46 GMT'}, 'RetryAttempts': 0}}\n",
      "id 3ZKUQXDZ4GWPO7ECLTL0G0F7KLK828\n",
      "{'ResponseMetadata': {'RequestId': 'f1bf95ea-154d-4e2f-a2b8-539a7870cb51', 'HTTPStatusCode': 200, 'HTTPHeaders': {'x-amzn-requestid': 'f1bf95ea-154d-4e2f-a2b8-539a7870cb51', 'content-type': 'application/x-amz-json-1.1', 'content-length': '2', 'date': 'Fri, 20 Aug 2021 22:38:46 GMT'}, 'RetryAttempts': 0}}\n",
      "{'HIT': {'HITId': '31ANT7FQOHBHTSCKF40MFAQI2P25H5', 'HITTypeId': '31S093JAJGL8LWDQ12453TYT9JQRW5', 'HITGroupId': '3NZ3SSHPA2OL47SX0RLTWHYZ6TWQQ7', 'CreationTime': datetime.datetime(2021, 8, 20, 17, 38, 47, tzinfo=tzlocal()), 'Title': 'Compensation for HIT Compensation hit for playing Overcooked, thanks for your time!', 'Description': 'Compensation for HIT Compensation hit for playing Overcooked, thanks for your time!', 'Question': '<QuestionForm xmlns=\"http://mechanicalturk.amazonaws.com/AWSMechanicalTurkDataSchemas/2005-10-01/QuestionForm.xsd\">\\n    <Overview>\\n        <FormattedContent><![CDATA[\\n            <h1><strong>Compensation HIT</strong></h1>\\n            <h2>Description</h2>\\n            <h4>We\\'re sorry you experienced a problem with one of our HITs. Please accept our apologies and compensation for your time.</h4>\\n            <h2>Instructions:</h2>\\n            <h4>Enter your worker ID in the box below.</h4>\\n        ]]>\\n        </FormattedContent>\\n    </Overview>\\n    <Question>\\n        <QuestionIdentifier>workerID</QuestionIdentifier>\\n        <DisplayName>Worker ID</DisplayName>\\n        <IsRequired>true</IsRequired>\\n        <QuestionContent>\\n            <Text>Please enter your worker ID here: </Text>\\n        </QuestionContent>\\n        <AnswerSpecification>\\n            <FreeTextAnswer>\\n                <NumberOfLinesSuggestion>1</NumberOfLinesSuggestion>\\n            </FreeTextAnswer>\\n        </AnswerSpecification>\\n    </Question>\\n</QuestionForm>', 'Keywords': 'compensation, Compensation hit for playing Overcooked, thanks for your time!', 'HITStatus': 'Assignable', 'MaxAssignments': 1, 'Reward': '2.00', 'AutoApprovalDelayInSeconds': 604800, 'Expiration': datetime.datetime(2021, 8, 23, 17, 38, 47, tzinfo=tzlocal()), 'AssignmentDurationInSeconds': 300, 'QualificationRequirements': [{'QualificationTypeId': '3ZKUQXDZ4GWPO7ECLTL0G0F7KLK828', 'Comparator': 'Exists', 'RequiredToPreview': True, 'ActionsGuarded': 'DiscoverPreviewAndAccept'}], 'HITReviewStatus': 'NotReviewed', 'NumberOfAssignmentsPending': 0, 'NumberOfAssignmentsAvailable': 1, 'NumberOfAssignmentsCompleted': 0}, 'ResponseMetadata': {'RequestId': 'ecf5d73c-2b2f-45db-bd95-f90b3fe0951e', 'HTTPStatusCode': 200, 'HTTPHeaders': {'x-amzn-requestid': 'ecf5d73c-2b2f-45db-bd95-f90b3fe0951e', 'content-type': 'application/x-amz-json-1.1', 'content-length': '1994', 'date': 'Fri, 20 Aug 2021 22:38:47 GMT'}, 'RetryAttempts': 0}}\n",
      "\n",
      "\n"
     ]
    }
   ],
   "metadata": {}
  },
  {
   "cell_type": "markdown",
   "source": [
    "# Download data"
   ],
   "metadata": {}
  },
  {
   "cell_type": "markdown",
   "source": [
    "Helper to download data from MTurk "
   ],
   "metadata": {}
  },
  {
   "cell_type": "code",
   "execution_count": 11,
   "source": [
    "def pretty_print(obj):\n",
    "    pp = pprint.PrettyPrinter(indent=4)\n",
    "    pp.pprint(obj)\n",
    "    pp = None\n",
    "\n",
    "# Downloads all the assignments completed for `hits` as a list of dictionaries. \n",
    "# If a download_path is given, also saves that data as json \n",
    "def get_assignment_content(hits, download_path=\"\", should_print=False): \n",
    "    all_responses = []\n",
    "    for hit in hits: \n",
    "        hitid = hit['HITId']\n",
    "        assignments = get_all_assignments(hitid)\n",
    "        for a in assignments:\n",
    "            a_xml = a['Answer']\n",
    "            #print(a_xml)\n",
    "            soup = bs(a_xml, \"html.parser\")\n",
    "            answers = soup.find_all(\"answer\")\n",
    "            #print(answers)\n",
    "            results = {'HITId': a['HITId'], 'AssignmentId': a['AssignmentId'], 'WorkerId': a['WorkerId']}\n",
    "            for ans in answers: \n",
    "                identifier = ans.find('questionidentifier').string\n",
    "                answer = ans.find('freetext').string\n",
    "                try: \n",
    "                    results[identifier] = json.loads(answer)\n",
    "                except:\n",
    "                    results[identifier] = answer\n",
    "            all_responses.append(results)\n",
    "    if should_print: \n",
    "        pretty_print(all_responses)\n",
    "    if download_path: \n",
    "        with open(download_path, 'w') as outfile: \n",
    "            json.dump(all_responses, outfile)\n",
    "    return all_responses\n",
    "            "
   ],
   "outputs": [],
   "metadata": {}
  },
  {
   "cell_type": "code",
   "execution_count": 12,
   "source": [
    "# Use this cell to download data\n",
    "# responses = get_assignment_content(hits, download_path=SAVE_PATH, should_print=True)\n",
    "responses = get_assignment_content(hits, download_path=SAVE_PATH, should_print=False)"
   ],
   "outputs": [],
   "metadata": {}
  },
  {
   "cell_type": "code",
   "execution_count": 13,
   "source": [
    "len(responses)"
   ],
   "outputs": [
    {
     "output_type": "execute_result",
     "data": {
      "text/plain": [
       "20"
      ]
     },
     "metadata": {},
     "execution_count": 13
    }
   ],
   "metadata": {}
  },
  {
   "cell_type": "code",
   "execution_count": 19,
   "source": [
    "responses[0]['results']['data'][-1]['browserInfo']"
   ],
   "outputs": [
    {
     "output_type": "execute_result",
     "data": {
      "text/plain": [
       "{'navigatorPlatform': 'Win32',\n",
       " 'navigatorAppVersion': '5.0 (Windows NT 10.0; Win64; x64) AppleWebKit/537.36 (KHTML, like Gecko) Chrome/92.0.4515.159 Safari/537.36 Edg/92.0.902.78',\n",
       " 'navigatorUserAgent': 'Mozilla/5.0 (Windows NT 10.0; Win64; x64) AppleWebKit/537.36 (KHTML, like Gecko) Chrome/92.0.4515.159 Safari/537.36 Edg/92.0.902.78'}"
      ]
     },
     "metadata": {},
     "execution_count": 19
    }
   ],
   "metadata": {}
  },
  {
   "cell_type": "code",
   "execution_count": 22,
   "source": [
    "game_id = responses[0]['results']['data'][8]['trial_id']"
   ],
   "outputs": [],
   "metadata": {}
  },
  {
   "cell_type": "code",
   "execution_count": 13,
   "source": [
    "responses[0]['results']['data'][8]"
   ],
   "outputs": [
    {
     "output_type": "execute_result",
     "data": {
      "text/plain": [
       "{'trial_id': '1629782442.700061',\n",
       " 'params': {'playerZero': 'human',\n",
       "  'playerOne': 'sac_self_play_simple_0',\n",
       "  'layouts': ['simple'],\n",
       "  'gameTitle': 'Partner 3, Game 1',\n",
       "  'gameType': 'overcooked_recorder',\n",
       "  'gameTime': 60,\n",
       "  'gameTotalPartners': 4,\n",
       "  'gamePartnerNum': 3}}"
      ]
     },
     "metadata": {},
     "execution_count": 13
    }
   ],
   "metadata": {}
  },
  {
   "cell_type": "code",
   "execution_count": 80,
   "source": [
    "import json\n",
    "import pandas as pd\n",
    "import matplotlib.pyplot as plt"
   ],
   "outputs": [],
   "metadata": {}
  },
  {
   "cell_type": "code",
   "execution_count": 81,
   "source": [
    "f = open('../server/data/server/' + game_id + '.json')\n",
    "  \n",
    "data = json.load(f)\n",
    "  \n",
    "f.close()"
   ],
   "outputs": [],
   "metadata": {}
  },
  {
   "cell_type": "code",
   "execution_count": 70,
   "source": [
    "data['trajectory']"
   ],
   "outputs": [
    {
     "output_type": "error",
     "ename": "NameError",
     "evalue": "name 'data' is not defined",
     "traceback": [
      "\u001b[0;31m---------------------------------------------------------------------------\u001b[0m",
      "\u001b[0;31mNameError\u001b[0m                                 Traceback (most recent call last)",
      "\u001b[0;32m<ipython-input-70-a35e60043ba2>\u001b[0m in \u001b[0;36m<module>\u001b[0;34m\u001b[0m\n\u001b[0;32m----> 1\u001b[0;31m \u001b[0mdata\u001b[0m\u001b[0;34m[\u001b[0m\u001b[0;34m'trajectory'\u001b[0m\u001b[0;34m]\u001b[0m\u001b[0;34m\u001b[0m\u001b[0;34m\u001b[0m\u001b[0m\n\u001b[0m",
      "\u001b[0;31mNameError\u001b[0m: name 'data' is not defined"
     ]
    }
   ],
   "metadata": {}
  },
  {
   "cell_type": "code",
   "execution_count": null,
   "source": [],
   "outputs": [],
   "metadata": {}
  }
 ],
 "metadata": {
  "kernelspec": {
   "name": "python3",
   "display_name": "Python 3.7.10 64-bit ('MultiagentEnv': conda)"
  },
  "language_info": {
   "codemirror_mode": {
    "name": "ipython",
    "version": 3
   },
   "file_extension": ".py",
   "mimetype": "text/x-python",
   "name": "python",
   "nbconvert_exporter": "python",
   "pygments_lexer": "ipython3",
   "version": "3.7.10"
  },
  "interpreter": {
   "hash": "5cc1ba5dfacf58224fff1d54abd20b904cd9c4baf2ff680e876c54f4d74093d1"
  }
 },
 "nbformat": 4,
 "nbformat_minor": 2
}