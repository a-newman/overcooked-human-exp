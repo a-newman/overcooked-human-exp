{
 "cells": [
  {
   "cell_type": "code",
   "execution_count": 54,
   "id": "ce3a1cb5",
   "metadata": {},
   "outputs": [],
   "source": [
    "import json\n",
    "import pandas as pd\n",
    "import pprint\n",
    "import numpy as np"
   ]
  },
  {
   "cell_type": "code",
   "execution_count": 4,
   "id": "9538d630",
   "metadata": {},
   "outputs": [],
   "source": [
    "# Opening JSON file\n",
    "f = open('assignments-prod.json',)\n",
    "  \n",
    "data = json.load(f)\n",
    "\n",
    "f.close()"
   ]
  },
  {
   "cell_type": "markdown",
   "id": "8ae3f1ec",
   "metadata": {},
   "source": [
    "Data is a list of dictionaries, where each dictionary corresponds to one MTurk assignment."
   ]
  },
  {
   "cell_type": "code",
   "execution_count": 17,
   "id": "bb2fbbc2",
   "metadata": {},
   "outputs": [
    {
     "data": {
      "text/html": [
       "<div>\n",
       "<style scoped>\n",
       "    .dataframe tbody tr th:only-of-type {\n",
       "        vertical-align: middle;\n",
       "    }\n",
       "\n",
       "    .dataframe tbody tr th {\n",
       "        vertical-align: top;\n",
       "    }\n",
       "\n",
       "    .dataframe thead th {\n",
       "        text-align: right;\n",
       "    }\n",
       "</style>\n",
       "<table border=\"1\" class=\"dataframe\">\n",
       "  <thead>\n",
       "    <tr style=\"text-align: right;\">\n",
       "      <th></th>\n",
       "      <th>HITId</th>\n",
       "      <th>AssignmentId</th>\n",
       "      <th>WorkerId</th>\n",
       "      <th>workerId</th>\n",
       "      <th>results</th>\n",
       "    </tr>\n",
       "  </thead>\n",
       "  <tbody>\n",
       "    <tr>\n",
       "      <th>0</th>\n",
       "      <td>344M16OZLRO9Z7ROT3O2OOTR08YEN3</td>\n",
       "      <td>3Y54SXRO1VUR60QO61UKPPH99M9UTO</td>\n",
       "      <td>A15VCKELIEEPJN</td>\n",
       "      <td>A15VCKELIEEPJN</td>\n",
       "      <td>{'feedback': {'feedback_1': 'Exceptionally goo...</td>\n",
       "    </tr>\n",
       "    <tr>\n",
       "      <th>1</th>\n",
       "      <td>344M16OZLRO9Z7ROT3O2OOTR08YEN3</td>\n",
       "      <td>3JNQLM5FTEVU3B9HE8INXFC0WI3L2T</td>\n",
       "      <td>A2MW3X4AFJHY28</td>\n",
       "      <td>A2MW3X4AFJHY28</td>\n",
       "      <td>{'feedback': {'feedback_1': 'good', 'feedback_...</td>\n",
       "    </tr>\n",
       "    <tr>\n",
       "      <th>2</th>\n",
       "      <td>344M16OZLRO9Z7ROT3O2OOTR08YEN3</td>\n",
       "      <td>3AMW0RGHONBGJID8SJ9E6KOICNVPNM</td>\n",
       "      <td>A1WVNDH62P2UNZ</td>\n",
       "      <td>A1WVNDH62P2UNZ</td>\n",
       "      <td>{'feedback': {'feedback_1': 'My partner was ve...</td>\n",
       "    </tr>\n",
       "    <tr>\n",
       "      <th>3</th>\n",
       "      <td>344M16OZLRO9Z7ROT3O2OOTR08YEN3</td>\n",
       "      <td>34T446B1CANU4XCXM8LAB8TY5B60C9</td>\n",
       "      <td>A1V2Z3DVTZGNQQ</td>\n",
       "      <td>A1V2Z3DVTZGNQQ</td>\n",
       "      <td>{'feedback': {'feedback_1': 'it is easy study'...</td>\n",
       "    </tr>\n",
       "    <tr>\n",
       "      <th>4</th>\n",
       "      <td>344M16OZLRO9Z7ROT3O2OOTR08YEN3</td>\n",
       "      <td>3PEIJLRY632BFLOD6BAIWGNC7Y8XW9</td>\n",
       "      <td>A3LPAX1VG9JK3U</td>\n",
       "      <td>A3LPAX1VG9JK3U</td>\n",
       "      <td>{'feedback': {'feedback_1': 'very nice', 'feed...</td>\n",
       "    </tr>\n",
       "    <tr>\n",
       "      <th>5</th>\n",
       "      <td>344M16OZLRO9Z7ROT3O2OOTR08YEN3</td>\n",
       "      <td>3FTOP5WARPXHCBI3W02WYC6TVVGJ07</td>\n",
       "      <td>A101034V35PRT0</td>\n",
       "      <td>A101034V35PRT0</td>\n",
       "      <td>{'feedback': {'feedback_1': 'good', 'feedback_...</td>\n",
       "    </tr>\n",
       "    <tr>\n",
       "      <th>6</th>\n",
       "      <td>344M16OZLRO9Z7ROT3O2OOTR08YEN3</td>\n",
       "      <td>3XUHV3NRVU7KGC9E565N3UM5ZBM5H8</td>\n",
       "      <td>A3GN7K3DRTAAH7</td>\n",
       "      <td>A3GN7K3DRTAAH7</td>\n",
       "      <td>{'feedback': {'feedback_1': 'fine game', 'feed...</td>\n",
       "    </tr>\n",
       "    <tr>\n",
       "      <th>7</th>\n",
       "      <td>344M16OZLRO9Z7ROT3O2OOTR08YEN3</td>\n",
       "      <td>3JCG6DTRVDZMMRRF8OGKAJ9XMUTQQQ</td>\n",
       "      <td>A12IB5SJOWF2OU</td>\n",
       "      <td>A12IB5SJOWF2OU</td>\n",
       "      <td>{'feedback': {'feedback_1': 'VERY WELL', 'feed...</td>\n",
       "    </tr>\n",
       "    <tr>\n",
       "      <th>8</th>\n",
       "      <td>344M16OZLRO9Z7ROT3O2OOTR08YEN3</td>\n",
       "      <td>33LK57MYL3E7DZ7JNOO2WC029MCSZQ</td>\n",
       "      <td>A8PV6D753PKFY</td>\n",
       "      <td>A8PV6D753PKFY</td>\n",
       "      <td>{'feedback': {'feedback_1': 'very well paly ',...</td>\n",
       "    </tr>\n",
       "    <tr>\n",
       "      <th>9</th>\n",
       "      <td>344M16OZLRO9Z7ROT3O2OOTR08YEN3</td>\n",
       "      <td>3LO69W1SUDMKI5HODN3CZJ6162IGLJ</td>\n",
       "      <td>AXY0D2AMLKE2A</td>\n",
       "      <td>AXY0D2AMLKE2A</td>\n",
       "      <td>{'feedback': {'feedback_1': 'pretty good got i...</td>\n",
       "    </tr>\n",
       "  </tbody>\n",
       "</table>\n",
       "</div>"
      ],
      "text/plain": [
       "                            HITId                    AssignmentId  \\\n",
       "0  344M16OZLRO9Z7ROT3O2OOTR08YEN3  3Y54SXRO1VUR60QO61UKPPH99M9UTO   \n",
       "1  344M16OZLRO9Z7ROT3O2OOTR08YEN3  3JNQLM5FTEVU3B9HE8INXFC0WI3L2T   \n",
       "2  344M16OZLRO9Z7ROT3O2OOTR08YEN3  3AMW0RGHONBGJID8SJ9E6KOICNVPNM   \n",
       "3  344M16OZLRO9Z7ROT3O2OOTR08YEN3  34T446B1CANU4XCXM8LAB8TY5B60C9   \n",
       "4  344M16OZLRO9Z7ROT3O2OOTR08YEN3  3PEIJLRY632BFLOD6BAIWGNC7Y8XW9   \n",
       "5  344M16OZLRO9Z7ROT3O2OOTR08YEN3  3FTOP5WARPXHCBI3W02WYC6TVVGJ07   \n",
       "6  344M16OZLRO9Z7ROT3O2OOTR08YEN3  3XUHV3NRVU7KGC9E565N3UM5ZBM5H8   \n",
       "7  344M16OZLRO9Z7ROT3O2OOTR08YEN3  3JCG6DTRVDZMMRRF8OGKAJ9XMUTQQQ   \n",
       "8  344M16OZLRO9Z7ROT3O2OOTR08YEN3  33LK57MYL3E7DZ7JNOO2WC029MCSZQ   \n",
       "9  344M16OZLRO9Z7ROT3O2OOTR08YEN3  3LO69W1SUDMKI5HODN3CZJ6162IGLJ   \n",
       "\n",
       "         WorkerId        workerId  \\\n",
       "0  A15VCKELIEEPJN  A15VCKELIEEPJN   \n",
       "1  A2MW3X4AFJHY28  A2MW3X4AFJHY28   \n",
       "2  A1WVNDH62P2UNZ  A1WVNDH62P2UNZ   \n",
       "3  A1V2Z3DVTZGNQQ  A1V2Z3DVTZGNQQ   \n",
       "4  A3LPAX1VG9JK3U  A3LPAX1VG9JK3U   \n",
       "5  A101034V35PRT0  A101034V35PRT0   \n",
       "6  A3GN7K3DRTAAH7  A3GN7K3DRTAAH7   \n",
       "7  A12IB5SJOWF2OU  A12IB5SJOWF2OU   \n",
       "8   A8PV6D753PKFY   A8PV6D753PKFY   \n",
       "9   AXY0D2AMLKE2A   AXY0D2AMLKE2A   \n",
       "\n",
       "                                             results  \n",
       "0  {'feedback': {'feedback_1': 'Exceptionally goo...  \n",
       "1  {'feedback': {'feedback_1': 'good', 'feedback_...  \n",
       "2  {'feedback': {'feedback_1': 'My partner was ve...  \n",
       "3  {'feedback': {'feedback_1': 'it is easy study'...  \n",
       "4  {'feedback': {'feedback_1': 'very nice', 'feed...  \n",
       "5  {'feedback': {'feedback_1': 'good', 'feedback_...  \n",
       "6  {'feedback': {'feedback_1': 'fine game', 'feed...  \n",
       "7  {'feedback': {'feedback_1': 'VERY WELL', 'feed...  \n",
       "8  {'feedback': {'feedback_1': 'very well paly ',...  \n",
       "9  {'feedback': {'feedback_1': 'pretty good got i...  "
      ]
     },
     "execution_count": 17,
     "metadata": {},
     "output_type": "execute_result"
    }
   ],
   "source": [
    "pd.DataFrame.from_dict(data)"
   ]
  },
  {
   "cell_type": "code",
   "execution_count": 25,
   "id": "f8e003b7",
   "metadata": {},
   "outputs": [
    {
     "data": {
      "text/html": [
       "<div>\n",
       "<style scoped>\n",
       "    .dataframe tbody tr th:only-of-type {\n",
       "        vertical-align: middle;\n",
       "    }\n",
       "\n",
       "    .dataframe tbody tr th {\n",
       "        vertical-align: top;\n",
       "    }\n",
       "\n",
       "    .dataframe thead th {\n",
       "        text-align: right;\n",
       "    }\n",
       "</style>\n",
       "<table border=\"1\" class=\"dataframe\">\n",
       "  <thead>\n",
       "    <tr style=\"text-align: right;\">\n",
       "      <th></th>\n",
       "      <th>feedback_1</th>\n",
       "      <th>feedback_2</th>\n",
       "      <th>feedback_3</th>\n",
       "    </tr>\n",
       "  </thead>\n",
       "  <tbody>\n",
       "    <tr>\n",
       "      <th>0</th>\n",
       "      <td>Exceptionally good.</td>\n",
       "      <td>Yes I didn;t seem to work well with him or as a teammate.</td>\n",
       "      <td>Too short would like more time.</td>\n",
       "    </tr>\n",
       "    <tr>\n",
       "      <th>1</th>\n",
       "      <td>good</td>\n",
       "      <td>none</td>\n",
       "      <td>its good</td>\n",
       "    </tr>\n",
       "    <tr>\n",
       "      <th>2</th>\n",
       "      <td>My partner was very good at playing.</td>\n",
       "      <td>No</td>\n",
       "      <td>just about the right length to play the game</td>\n",
       "    </tr>\n",
       "    <tr>\n",
       "      <th>3</th>\n",
       "      <td>it is easy study</td>\n",
       "      <td>it is easy study</td>\n",
       "      <td>it is easy study</td>\n",
       "    </tr>\n",
       "    <tr>\n",
       "      <th>4</th>\n",
       "      <td>very nice</td>\n",
       "      <td>interest</td>\n",
       "      <td>nice</td>\n",
       "    </tr>\n",
       "    <tr>\n",
       "      <th>5</th>\n",
       "      <td>good</td>\n",
       "      <td>na</td>\n",
       "      <td>good</td>\n",
       "    </tr>\n",
       "    <tr>\n",
       "      <th>6</th>\n",
       "      <td>fine game</td>\n",
       "      <td>no</td>\n",
       "      <td>good</td>\n",
       "    </tr>\n",
       "    <tr>\n",
       "      <th>7</th>\n",
       "      <td>VERY WELL</td>\n",
       "      <td>NOTHING</td>\n",
       "      <td>VERY NICE AND SHORT</td>\n",
       "    </tr>\n",
       "    <tr>\n",
       "      <th>8</th>\n",
       "      <td>very well paly</td>\n",
       "      <td>no</td>\n",
       "      <td>short</td>\n",
       "    </tr>\n",
       "    <tr>\n",
       "      <th>9</th>\n",
       "      <td>pretty good got in my way sometimes</td>\n",
       "      <td>took a minute to get used to it</td>\n",
       "      <td>good length</td>\n",
       "    </tr>\n",
       "  </tbody>\n",
       "</table>\n",
       "</div>"
      ],
      "text/plain": [
       "                             feedback_1  \\\n",
       "0                  Exceptionally good.    \n",
       "1                                  good   \n",
       "2  My partner was very good at playing.   \n",
       "3                      it is easy study   \n",
       "4                             very nice   \n",
       "5                                  good   \n",
       "6                             fine game   \n",
       "7                             VERY WELL   \n",
       "8                       very well paly    \n",
       "9   pretty good got in my way sometimes   \n",
       "\n",
       "                                                   feedback_2  \\\n",
       "0  Yes I didn;t seem to work well with him or as a teammate.    \n",
       "1                                                        none   \n",
       "2                                                          No   \n",
       "3                                            it is easy study   \n",
       "4                                                    interest   \n",
       "5                                                          na   \n",
       "6                                                          no   \n",
       "7                                                     NOTHING   \n",
       "8                                                          no   \n",
       "9                             took a minute to get used to it   \n",
       "\n",
       "                                     feedback_3  \n",
       "0              Too short would like more time.   \n",
       "1                                      its good  \n",
       "2  just about the right length to play the game  \n",
       "3                              it is easy study  \n",
       "4                                          nice  \n",
       "5                                          good  \n",
       "6                                          good  \n",
       "7                           VERY NICE AND SHORT  \n",
       "8                                        short   \n",
       "9                                   good length  "
      ]
     },
     "execution_count": 25,
     "metadata": {},
     "output_type": "execute_result"
    }
   ],
   "source": [
    "output = pd.DataFrame()\n",
    "\n",
    "for assignment in data:\n",
    "    output = output.append(assignment['results']['feedback'], ignore_index=True)\n",
    "\n",
    "\n",
    "feedback_1 = 'How good was your partner at playing the game?'\n",
    "feedback_2 = 'Did you have any issues with the task or the interface?'\n",
    "feedback_3 = 'Was the game too short, too long, or a good length?'\n",
    "\n",
    "pd.set_option('display.max_colwidth', None)\n",
    "output"
   ]
  },
  {
   "cell_type": "code",
   "execution_count": 52,
   "id": "d158e6b2",
   "metadata": {},
   "outputs": [
    {
     "name": "stdout",
     "output_type": "stream",
     "text": [
      "{'cur_gameloop': 1,\n",
      " 'info': {'curr_game_reward': 0},\n",
      " 'joint_action': [[0, 0], [1, 0]],\n",
      " 'layout': [['X', 'X', 'P', 'X', 'X'],\n",
      "            ['O', ' ', ' ', ' ', 'O'],\n",
      "            ['X', ' ', ' ', ' ', 'X'],\n",
      "            ['X', 'D', 'X', 'S', 'X']],\n",
      " 'layout_name': 'simple',\n",
      " 'player_0_id': 'bf2847104be74272ae4888541821d2bb',\n",
      " 'player_0_is_human': True,\n",
      " 'player_1_id': 'sac_self_play_simple_0_1',\n",
      " 'player_1_is_human': False,\n",
      " 'reward': 0,\n",
      " 'score': 0,\n",
      " 'state': {'objects': [],\n",
      "           'order_list': [],\n",
      "           'players': [{'held_object': None,\n",
      "                        'orientation': [0, -1],\n",
      "                        'position': [1, 2]},\n",
      "                       {'held_object': None,\n",
      "                        'orientation': [0, -1],\n",
      "                        'position': [3, 1]}]},\n",
      " 'time_elapsed': 0.0034787654876708984,\n",
      " 'time_left': 59.99652290344238,\n",
      " 'trial_id': '1627411884.9254475'}\n"
     ]
    }
   ],
   "source": [
    "pprint.pprint(data[0]['results']['data']['data']['trajectory'][0])"
   ]
  },
  {
   "cell_type": "code",
   "execution_count": 39,
   "id": "0a584940",
   "metadata": {},
   "outputs": [],
   "source": [
    "import sys\n",
    "\n",
    "sys.path.append('/home/davidyue/Documents/filerepo/Research/multiagent-human-experiment/server/multiagent')\n",
    "\n",
    "from tianshou.env import create_video"
   ]
  },
  {
   "cell_type": "code",
   "execution_count": 40,
   "id": "5930ff4c",
   "metadata": {},
   "outputs": [],
   "source": [
    "filename = './replayvideo'\n",
    "framerate = 5\n",
    "vid_scale = 5"
   ]
  },
  {
   "cell_type": "code",
   "execution_count": 41,
   "id": "7f275897",
   "metadata": {},
   "outputs": [],
   "source": [
    "all_frames = data[0]['results']['data']['data']['trajectory']"
   ]
  },
  {
   "cell_type": "code",
   "execution_count": 42,
   "id": "1fb5c5d9",
   "metadata": {},
   "outputs": [
    {
     "ename": "AttributeError",
     "evalue": "'dict' object has no attribute 'shape'",
     "output_type": "error",
     "traceback": [
      "\u001b[0;31m---------------------------------------------------------------------------\u001b[0m",
      "\u001b[0;31mAttributeError\u001b[0m                            Traceback (most recent call last)",
      "\u001b[0;32m<ipython-input-42-b1ef5944284f>\u001b[0m in \u001b[0;36m<module>\u001b[0;34m\u001b[0m\n\u001b[0;32m----> 1\u001b[0;31m \u001b[0mcreate_video\u001b[0m\u001b[0;34m(\u001b[0m\u001b[0mall_frames\u001b[0m\u001b[0;34m,\u001b[0m \u001b[0mfilename\u001b[0m\u001b[0;34m,\u001b[0m \u001b[0mframerate\u001b[0m\u001b[0;34m,\u001b[0m \u001b[0mscale\u001b[0m\u001b[0;34m=\u001b[0m\u001b[0mvid_scale\u001b[0m\u001b[0;34m)\u001b[0m\u001b[0;34m\u001b[0m\u001b[0;34m\u001b[0m\u001b[0m\n\u001b[0m",
      "\u001b[0;32m~/Documents/filerepo/Research/multiagent-human-experiment/server/multiagent/tianshou/env/video.py\u001b[0m in \u001b[0;36mcreate_video\u001b[0;34m(frames, video_file, fps, scale)\u001b[0m\n\u001b[1;32m      4\u001b[0m \u001b[0;34m\u001b[0m\u001b[0m\n\u001b[1;32m      5\u001b[0m \u001b[0;32mdef\u001b[0m \u001b[0mcreate_video\u001b[0m\u001b[0;34m(\u001b[0m\u001b[0mframes\u001b[0m\u001b[0;34m,\u001b[0m \u001b[0mvideo_file\u001b[0m\u001b[0;34m,\u001b[0m \u001b[0mfps\u001b[0m\u001b[0;34m=\u001b[0m\u001b[0;36m60\u001b[0m\u001b[0;34m,\u001b[0m \u001b[0mscale\u001b[0m\u001b[0;34m=\u001b[0m\u001b[0;36m1\u001b[0m\u001b[0;34m)\u001b[0m\u001b[0;34m:\u001b[0m\u001b[0;34m\u001b[0m\u001b[0;34m\u001b[0m\u001b[0m\n\u001b[0;32m----> 6\u001b[0;31m     \u001b[0mheight\u001b[0m\u001b[0;34m,\u001b[0m \u001b[0mwidth\u001b[0m\u001b[0;34m,\u001b[0m \u001b[0m_\u001b[0m \u001b[0;34m=\u001b[0m \u001b[0mframes\u001b[0m\u001b[0;34m[\u001b[0m\u001b[0;36m0\u001b[0m\u001b[0;34m]\u001b[0m\u001b[0;34m.\u001b[0m\u001b[0mshape\u001b[0m\u001b[0;34m\u001b[0m\u001b[0;34m\u001b[0m\u001b[0m\n\u001b[0m\u001b[1;32m      7\u001b[0m     \u001b[0mheight\u001b[0m\u001b[0;34m,\u001b[0m \u001b[0mwidth\u001b[0m \u001b[0;34m=\u001b[0m \u001b[0mint\u001b[0m\u001b[0;34m(\u001b[0m\u001b[0mround\u001b[0m\u001b[0;34m(\u001b[0m\u001b[0mheight\u001b[0m \u001b[0;34m*\u001b[0m \u001b[0mscale\u001b[0m\u001b[0;34m)\u001b[0m\u001b[0;34m)\u001b[0m\u001b[0;34m,\u001b[0m \u001b[0mint\u001b[0m\u001b[0;34m(\u001b[0m\u001b[0mround\u001b[0m\u001b[0;34m(\u001b[0m\u001b[0mwidth\u001b[0m \u001b[0;34m*\u001b[0m \u001b[0mscale\u001b[0m\u001b[0;34m)\u001b[0m\u001b[0;34m)\u001b[0m\u001b[0;34m\u001b[0m\u001b[0;34m\u001b[0m\u001b[0m\n\u001b[1;32m      8\u001b[0m     \u001b[0;31m# fourcc = VideoWriter_fourcc(*'MP42')\u001b[0m\u001b[0;34m\u001b[0m\u001b[0;34m\u001b[0m\u001b[0;34m\u001b[0m\u001b[0m\n",
      "\u001b[0;31mAttributeError\u001b[0m: 'dict' object has no attribute 'shape'"
     ]
    }
   ],
   "source": [
    "create_video(all_frames, filename, framerate, scale=vid_scale)"
   ]
  },
  {
   "cell_type": "code",
   "execution_count": 56,
   "id": "10631d52",
   "metadata": {},
   "outputs": [],
   "source": [
    "def get_actions_for_trial(pathname: str) -> np.ndarray:\n",
    "    \"\"\"Returns the sequence of actions associated with a human trial.\n",
    "\n",
    "    :param trial_num: the trial id of the trial you want to get actions for\n",
    "    :type trial_num: int\n",
    "    :rtype: np.ndarray The returned actions, with shape (num_agents, num_steps)\n",
    "    \"\"\"\n"
   ]
  },
  {
   "cell_type": "code",
   "execution_count": 58,
   "id": "c0aa527a",
   "metadata": {},
   "outputs": [],
   "source": [
    "human_data = pd.DataFrame(data[0]['results']['data']['data']['trajectory'])"
   ]
  },
  {
   "cell_type": "code",
   "execution_count": 66,
   "id": "769f6a77",
   "metadata": {},
   "outputs": [
    {
     "data": {
      "text/plain": [
       "[[0, 0], [1, 0]]"
      ]
     },
     "execution_count": 66,
     "metadata": {},
     "output_type": "execute_result"
    }
   ],
   "source": [
    "human_data['joint_action'][0]"
   ]
  },
  {
   "cell_type": "code",
   "execution_count": 74,
   "id": "d15ebdcb",
   "metadata": {},
   "outputs": [],
   "source": [
    "from tianshou.env.overcooked.action import Action\n"
   ]
  },
  {
   "cell_type": "code",
   "execution_count": 85,
   "id": "765e2dc6",
   "metadata": {},
   "outputs": [
    {
     "name": "stdout",
     "output_type": "stream",
     "text": [
      "[[4 4 4 ... 4 4 4]\n",
      " [2 4 4 ... 4 4 4]]\n"
     ]
    },
    {
     "data": {
      "text/plain": [
       "3"
      ]
     },
     "execution_count": 85,
     "metadata": {},
     "output_type": "execute_result"
    }
   ],
   "source": [
    "data = human_data\n",
    "\n",
    "trial_data = data['joint_action']\n",
    "action_strs = trial_data.tolist()\n",
    "type(action_strs[5][1])\n",
    "# action_strs = [json.loads(elt.replace(\"'\", '\"')) for elt in action_strs]\n",
    "\n",
    "# # extract the actions\n",
    "actions = []\n",
    "\n",
    "for action_pair in action_strs:\n",
    "    new_pair = []\n",
    "\n",
    "    for a in action_pair:\n",
    "        if isinstance(a, list):\n",
    "            a = tuple(a)\n",
    "        elif isinstance(a, str):\n",
    "            a = a.lower()\n",
    "        new_pair.append(Action.ACTION_TO_INDEX[a])\n",
    "    actions.append(new_pair)\n",
    "\n",
    "actions = np.array(actions).T\n",
    "\n",
    "print(actions)\n",
    "actions[1][25]"
   ]
  },
  {
   "cell_type": "code",
   "execution_count": 88,
   "id": "db79cf55",
   "metadata": {},
   "outputs": [
    {
     "data": {
      "text/plain": [
       "1719"
      ]
     },
     "execution_count": 88,
     "metadata": {},
     "output_type": "execute_result"
    }
   ],
   "source": [
    "len(actions[0])"
   ]
  },
  {
   "cell_type": "code",
   "execution_count": 89,
   "id": "925bec2a",
   "metadata": {},
   "outputs": [],
   "source": [
    "n_steps = len(actions[0])"
   ]
  },
  {
   "cell_type": "code",
   "execution_count": 90,
   "id": "bf4be420",
   "metadata": {},
   "outputs": [],
   "source": [
    "stay_action = Action.ACTION_TO_INDEX[Action.STAY]"
   ]
  },
  {
   "cell_type": "code",
   "execution_count": 91,
   "id": "149854b6",
   "metadata": {},
   "outputs": [
    {
     "data": {
      "text/plain": [
       "4"
      ]
     },
     "execution_count": 91,
     "metadata": {},
     "output_type": "execute_result"
    }
   ],
   "source": [
    "stay_action"
   ]
  },
  {
   "cell_type": "code",
   "execution_count": 98,
   "id": "890dcd9a",
   "metadata": {},
   "outputs": [],
   "source": [
    "from tianshou.policy import ReplayPolicy, MultiAgentPolicy\n",
    "device = 'cpu'"
   ]
  },
  {
   "cell_type": "code",
   "execution_count": 99,
   "id": "6885edf5",
   "metadata": {},
   "outputs": [],
   "source": [
    "policies = [\n",
    "    ReplayPolicy(a, device, default_action=stay_action) for a in actions\n",
    "]"
   ]
  },
  {
   "cell_type": "code",
   "execution_count": 100,
   "id": "da4f3e4d",
   "metadata": {},
   "outputs": [
    {
     "data": {
      "text/plain": [
       "[ReplayPolicy(), ReplayPolicy()]"
      ]
     },
     "execution_count": 100,
     "metadata": {},
     "output_type": "execute_result"
    }
   ],
   "source": [
    "policies"
   ]
  },
  {
   "cell_type": "code",
   "execution_count": 101,
   "id": "214148ad",
   "metadata": {},
   "outputs": [],
   "source": [
    "policy = MultiAgentPolicy(policies)"
   ]
  },
  {
   "cell_type": "code",
   "execution_count": 102,
   "id": "4a414fdd",
   "metadata": {},
   "outputs": [
    {
     "data": {
      "text/plain": [
       "MultiAgentPolicy()"
      ]
     },
     "execution_count": 102,
     "metadata": {},
     "output_type": "execute_result"
    }
   ],
   "source": [
    "policy"
   ]
  },
  {
   "cell_type": "code",
   "execution_count": 107,
   "id": "1c62b668",
   "metadata": {},
   "outputs": [],
   "source": [
    "from tianshou.data import Collector\n",
    "from tianshou.env import create_video, make_overcooked_env\n"
   ]
  },
  {
   "cell_type": "code",
   "execution_count": 109,
   "id": "b3f778db",
   "metadata": {},
   "outputs": [
    {
     "ename": "NameError",
     "evalue": "name 'args' is not defined",
     "output_type": "error",
     "traceback": [
      "\u001b[0;31m---------------------------------------------------------------------------\u001b[0m",
      "\u001b[0;31mNameError\u001b[0m                                 Traceback (most recent call last)",
      "\u001b[0;32m<ipython-input-109-b2cb1f8aa547>\u001b[0m in \u001b[0;36m<module>\u001b[0;34m\u001b[0m\n\u001b[0;32m----> 1\u001b[0;31m \u001b[0menv\u001b[0m \u001b[0;34m=\u001b[0m \u001b[0mmake_overcooked_env\u001b[0m\u001b[0;34m(\u001b[0m\u001b[0margs\u001b[0m\u001b[0;34m)\u001b[0m\u001b[0;34m\u001b[0m\u001b[0;34m\u001b[0m\u001b[0m\n\u001b[0m",
      "\u001b[0;31mNameError\u001b[0m: name 'args' is not defined"
     ]
    }
   ],
   "source": [
    "env = make_overcooked_env(args)\n"
   ]
  },
  {
   "cell_type": "code",
   "execution_count": 106,
   "id": "dee49a08",
   "metadata": {},
   "outputs": [
    {
     "ename": "NameError",
     "evalue": "name 'env' is not defined",
     "output_type": "error",
     "traceback": [
      "\u001b[0;31m---------------------------------------------------------------------------\u001b[0m",
      "\u001b[0;31mNameError\u001b[0m                                 Traceback (most recent call last)",
      "\u001b[0;32m<ipython-input-106-77c2034df4ad>\u001b[0m in \u001b[0;36m<module>\u001b[0;34m\u001b[0m\n\u001b[1;32m      1\u001b[0m collector = Collector(policy,\n\u001b[0;32m----> 2\u001b[0;31m                       \u001b[0menv\u001b[0m\u001b[0;34m,\u001b[0m\u001b[0;34m\u001b[0m\u001b[0;34m\u001b[0m\u001b[0m\n\u001b[0m\u001b[1;32m      3\u001b[0m                       \u001b[0mnum_agents\u001b[0m\u001b[0;34m=\u001b[0m\u001b[0mnum_agents\u001b[0m\u001b[0;34m,\u001b[0m\u001b[0;34m\u001b[0m\u001b[0;34m\u001b[0m\u001b[0m\n\u001b[1;32m      4\u001b[0m                       benchmark_logger=benchmark_logger)\n",
      "\u001b[0;31mNameError\u001b[0m: name 'env' is not defined"
     ]
    }
   ],
   "source": [
    "collector = Collector(policy,\n",
    "                      env,\n",
    "                      num_agents=num_agents,\n",
    "                      benchmark_logger=benchmark_logger)\n"
   ]
  },
  {
   "cell_type": "code",
   "execution_count": null,
   "id": "27de1d00",
   "metadata": {},
   "outputs": [],
   "source": []
  }
 ],
 "metadata": {
  "kernelspec": {
   "display_name": "Python [conda env:MultiagentEnv] *",
   "language": "python",
   "name": "conda-env-MultiagentEnv-py"
  },
  "language_info": {
   "codemirror_mode": {
    "name": "ipython",
    "version": 3
   },
   "file_extension": ".py",
   "mimetype": "text/x-python",
   "name": "python",
   "nbconvert_exporter": "python",
   "pygments_lexer": "ipython3",
   "version": "3.7.10"
  }
 },
 "nbformat": 4,
 "nbformat_minor": 5
}
